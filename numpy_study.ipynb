{
 "cells": [
  {
   "cell_type": "markdown",
   "metadata": {},
   "source": [
    "import numpy as np\n",
    "x = np.array([1, 2, 3, 4])\n",
    "x"
   ]
  },
  {
   "cell_type": "code",
   "execution_count": 7,
   "metadata": {},
   "outputs": [
    {
     "data": {
      "text/plain": [
       "array([1, 2, 3, 4])"
      ]
     },
     "execution_count": 7,
     "metadata": {},
     "output_type": "execute_result"
    }
   ],
   "source": [
    "y = x\n",
    "y"
   ]
  },
  {
   "cell_type": "code",
   "execution_count": 8,
   "metadata": {},
   "outputs": [
    {
     "data": {
      "text/plain": [
       "array([0, 1, 2, 3, 4, 5, 6, 7, 8, 9])"
      ]
     },
     "execution_count": 8,
     "metadata": {},
     "output_type": "execute_result"
    }
   ],
   "source": [
    "y = np.arange(10)\n",
    "y"
   ]
  },
  {
   "cell_type": "code",
   "execution_count": 9,
   "metadata": {},
   "outputs": [
    {
     "data": {
      "text/plain": [
       "array([1.        , 1.33333333, 1.66666667, 3.        ])"
      ]
     },
     "execution_count": 9,
     "metadata": {},
     "output_type": "execute_result"
    }
   ],
   "source": [
    "a = np.array([1, 2, 3, 5])\n",
    "b = np.linspace(0, 2, 4)\n",
    "c = a - b\n",
    "c"
   ]
  },
  {
   "cell_type": "code",
   "execution_count": 10,
   "metadata": {},
   "outputs": [
    {
     "data": {
      "text/plain": [
       "array([ 1,  4,  9, 25])"
      ]
     },
     "execution_count": 10,
     "metadata": {},
     "output_type": "execute_result"
    }
   ],
   "source": [
    "a ** 2"
   ]
  },
  {
   "cell_type": "markdown",
   "metadata": {},
   "source": [
    "这里`np.linspace(0, 2, 4)`表示的是0-2之间4个等分点"
   ]
  },
  {
   "cell_type": "code",
   "execution_count": 15,
   "metadata": {},
   "outputs": [],
   "source": [
    "a = np.linspace(- np.pi, np.pi, 100)\n",
    "b = np.sin(a)\n",
    "c = np.cos(a)"
   ]
  },
  {
   "cell_type": "code",
   "execution_count": 20,
   "metadata": {},
   "outputs": [
    {
     "data": {
      "text/plain": [
       "array([-4.83050847,  2.13559322,  1.18644068])"
      ]
     },
     "execution_count": 20,
     "metadata": {},
     "output_type": "execute_result"
    }
   ],
   "source": [
    "from numpy.random import rand\n",
    "from numpy.linalg import solve, inv\n",
    "a = np.array([[1, 2, 3], [3, 4, 6.7], [5, 9.0, 5]])  # 这里得注意小括号中还有个中括号\n",
    "b = np.array([3, 2, 1])\n",
    "solve(a,b)\n"
   ]
  },
  {
   "cell_type": "code",
   "execution_count": 21,
   "metadata": {},
   "outputs": [
    {
     "data": {
      "text/plain": [
       "array([[3.32708215, 3.24888155, 2.85967471],\n",
       "       [7.71923192, 7.85918628, 6.82410748],\n",
       "       [9.32614962, 9.97305165, 7.91596426]])"
      ]
     },
     "execution_count": 21,
     "metadata": {},
     "output_type": "execute_result"
    }
   ],
   "source": [
    "c = rand(3, 3)\n",
    "np.dot(a, c)"
   ]
  },
  {
   "cell_type": "markdown",
   "metadata": {},
   "source": [
    "#### 关于array"
   ]
  },
  {
   "cell_type": "code",
   "execution_count": 35,
   "metadata": {},
   "outputs": [
    {
     "name": "stdout",
     "output_type": "stream",
     "text": [
      "[3 4]\n",
      "[3 8]\n",
      "11\n",
      "[3 4]\n",
      "11\n"
     ]
    }
   ],
   "source": [
    "a = np.array([1, 2])\n",
    "b = np.array([3, 4])\n",
    "print(b)\n",
    "print(a * b)\n",
    "print(np.dot(a, b))\n",
    "\n",
    "b = np.transpose(b)\n",
    "print(b)\n",
    "print(np.dot(a, b))\n"
   ]
  },
  {
   "cell_type": "markdown",
   "metadata": {},
   "source": [
    "这说明对于`array`类型，`*`表示二者的点乘，也就是对应元素相乘，而`dot`则是二者的内积，怎么感觉并没有行列向量的区分啊"
   ]
  },
  {
   "cell_type": "code",
   "execution_count": 44,
   "metadata": {},
   "outputs": [
    {
     "data": {
      "text/plain": [
       "array([2, 3])"
      ]
     },
     "execution_count": 44,
     "metadata": {},
     "output_type": "execute_result"
    }
   ],
   "source": [
    "A = np.array([[1, 2, 3], [2, 3, 4]])\n",
    "A[:,1]"
   ]
  },
  {
   "cell_type": "markdown",
   "metadata": {},
   "source": [
    "可以看到，numpy与matlab不同的地方，`A[：，1]`是矩阵`A`的第二列，而不是第一列"
   ]
  },
  {
   "cell_type": "code",
   "execution_count": 46,
   "metadata": {},
   "outputs": [],
   "source": [
    "from numpy import *\n",
    "import scipy.linalg"
   ]
  },
  {
   "cell_type": "code",
   "execution_count": 62,
   "metadata": {},
   "outputs": [
    {
     "name": "stdout",
     "output_type": "stream",
     "text": [
      "size(B): 4\n",
      "shape(B): (2, 2)\n",
      "size(A): 6\n",
      "shape(A): (2, 3)\n"
     ]
    }
   ],
   "source": [
    "B = np.matrix(\"[1,2;3,4]\")\n",
    "\n",
    "print('size(B):',size(B))\n",
    "print('shape(B):',shape(B))\n",
    "\n",
    "print('size(A):',size(A))\n",
    "print('shape(A):',shape(A))"
   ]
  },
  {
   "cell_type": "markdown",
   "metadata": {},
   "source": [
    "`size`得到矩阵有几个元素，`shape`得到矩阵的行数和列数。"
   ]
  },
  {
   "cell_type": "code",
   "execution_count": 63,
   "metadata": {},
   "outputs": [
    {
     "name": "stdout",
     "output_type": "stream",
     "text": [
      "C[0:2, :]: [[1 2 3]\n",
      " [4 5 6]]\n"
     ]
    }
   ],
   "source": [
    "C = np.array([[1, 2, 3], [4, 5, 6], [7, 8, 9]])\n",
    "print('C[0:2, :]:',C[0:2, :])"
   ]
  },
  {
   "cell_type": "markdown",
   "metadata": {},
   "source": [
    "这里也需要注意，`C`的前两行是`C[0:2, :]`，而不是`C[0:1, :]`，也不是`C[1:2, :]`!"
   ]
  },
  {
   "cell_type": "markdown",
   "metadata": {},
   "source": [
    "分块矩阵合并成一个矩阵,`vstack`是竖直方向上合并矩阵块，`hstack`是水平方向上合并矩阵块。"
   ]
  },
  {
   "cell_type": "code",
   "execution_count": 64,
   "metadata": {},
   "outputs": [
    {
     "name": "stdout",
     "output_type": "stream",
     "text": [
      "D: [[1 2 3]\n",
      " [2 3 4]\n",
      " [1 2 3]\n",
      " [4 5 6]\n",
      " [7 8 9]]\n",
      "E [[1 2 3 1 2]\n",
      " [2 3 4 3 4]]\n"
     ]
    }
   ],
   "source": [
    "D = vstack([A,C])\n",
    "E = hstack([A,B])\n",
    "print('D:',D)\n",
    "print('E',E)"
   ]
  },
  {
   "cell_type": "code",
   "execution_count": 72,
   "metadata": {},
   "outputs": [
    {
     "name": "stdout",
     "output_type": "stream",
     "text": [
      "[1 2 3 4 5 6]\n",
      "[1 3 5]\n",
      "1 6\n",
      "[2 3 4 5]\n"
     ]
    }
   ],
   "source": [
    "a = array([1, 2, 3, 4, 5, 6])\n",
    "print(a)\n",
    "print(a[0:5:2])\n",
    "print(a[0],a[5])\n",
    "print(a[1:5])"
   ]
  },
  {
   "cell_type": "markdown",
   "metadata": {},
   "source": [
    "numpy这里真是奇怪，向量的第n个元素表示为`a[n-1]`,第2到5元素表示为`a[1:5]`。也就是说，`[a:b:c]`表示从`a-1`开始，到`b`结束，`[a-1,a-1+c,...,b]`"
   ]
  },
  {
   "cell_type": "markdown",
   "metadata": {},
   "source": [
    "python中的for循环，`for ** in ***:`中`**`是`***`中的值，并循环至`***`结束，与`while`语句不同，并没有条件判断。"
   ]
  },
  {
   "cell_type": "code",
   "execution_count": 79,
   "metadata": {},
   "outputs": [
    {
     "name": "stdout",
     "output_type": "stream",
     "text": [
      "i = 1 is in my list!\n",
      "i = 2 is in my list!\n",
      "i = 7 is in my list!\n",
      "i = 4 is in my list!\n",
      "i = 22 is in my list!\n"
     ]
    }
   ],
   "source": [
    "mylist = [1, 2, 7, 4, 22]\n",
    "for i in mylist:\n",
    "    print('i = %d is in my list!' % i)\n",
    "    "
   ]
  },
  {
   "cell_type": "markdown",
   "metadata": {},
   "source": [
    "介绍一个`range`函数.`range(start,stop,step)`得到从`start`开始，到`stop-1`结束内步长为`step`的整数，也就是说不包含`stop`，注意`start`和`stop`都得是整数，而且`start`得比`stop`大。与matlab不同的是步长通常放在范围后面"
   ]
  },
  {
   "cell_type": "code",
   "execution_count": 89,
   "metadata": {},
   "outputs": [
    {
     "name": "stdout",
     "output_type": "stream",
     "text": [
      "i = 10 is in my list!\n",
      "i = 12 is in my list!\n",
      "i = 14 is in my list!\n",
      "i = 16 is in my list!\n",
      "i = 18 is in my list!\n",
      "i = 20 is in my list!\n",
      "i = 22 is in my list!\n"
     ]
    }
   ],
   "source": [
    "for i in range(10, 23, 2):\n",
    "    print('i = %d is in my list!' % i)\n"
   ]
  },
  {
   "cell_type": "markdown",
   "metadata": {},
   "source": [
    "python中的循环语句`while`，注意要加上冒号`:`"
   ]
  },
  {
   "cell_type": "code",
   "execution_count": 80,
   "metadata": {},
   "outputs": [
    {
     "name": "stdout",
     "output_type": "stream",
     "text": [
      "0\n",
      "1\n",
      "2\n",
      "3\n",
      "4\n",
      "5\n",
      "6\n",
      "7\n",
      "8\n",
      "9\n",
      "end\n"
     ]
    }
   ],
   "source": [
    "condition = 0\n",
    "while condition < 10 :\n",
    "    print(condition)\n",
    "    condition = condition + 1\n",
    "print('end')"
   ]
  },
  {
   "cell_type": "code",
   "execution_count": 74,
   "metadata": {},
   "outputs": [
    {
     "name": "stdout",
     "output_type": "stream",
     "text": [
      "range(0, 5)\n",
      "(0, 1, 2, 3, 4)\n"
     ]
    }
   ],
   "source": [
    "print(range(5))\n",
    "print(tuple(range(5)))"
   ]
  },
  {
   "cell_type": "code",
   "execution_count": 80,
   "metadata": {},
   "outputs": [
    {
     "name": "stdout",
     "output_type": "stream",
     "text": [
      "5050\n",
      "5050\n",
      "range(0, 101)\n",
      "0\n"
     ]
    }
   ],
   "source": [
    "sum = 0\n",
    "for x in list(range(101)):\n",
    "    sum = sum + x\n",
    "print(sum)\n",
    "\n",
    "sum = 0\n",
    "for x in range(101):\n",
    "    sum = sum + x\n",
    "print(sum)\n",
    "\n",
    "a = range(101)\n",
    "print(a)\n",
    "print(a[0])"
   ]
  },
  {
   "cell_type": "markdown",
   "metadata": {},
   "source": [
    "那么现在`a = range(100)`是什么数据格式？"
   ]
  },
  {
   "cell_type": "code",
   "execution_count": 81,
   "metadata": {},
   "outputs": [
    {
     "name": "stdout",
     "output_type": "stream",
     "text": [
      "5050\n"
     ]
    }
   ],
   "source": [
    "sum = 0\n",
    "x = 0\n",
    "while(x <= 100):\n",
    "    sum = sum + x\n",
    "    x = x + 1\n",
    "print(sum)"
   ]
  },
  {
   "cell_type": "markdown",
   "metadata": {},
   "source": [
    "#### break\n",
    "在循环中，`break`语句可以提前退出循环。"
   ]
  },
  {
   "cell_type": "code",
   "execution_count": 85,
   "metadata": {},
   "outputs": [
    {
     "name": "stdout",
     "output_type": "stream",
     "text": [
      "1\n",
      "2\n",
      "3\n",
      "4\n",
      "5\n",
      "6\n",
      "7\n",
      "8\n",
      "9\n",
      "10\n",
      "end\n"
     ]
    }
   ],
   "source": [
    "n = 1\n",
    "while(n < 100):\n",
    "    if n > 10:\n",
    "        break\n",
    "    print(n)\n",
    "    n = n + 1\n",
    "print('end')"
   ]
  },
  {
   "cell_type": "markdown",
   "metadata": {},
   "source": [
    "#### continue\n",
    "在循环过程中，通过`continue`语句，跳过当前的这次循环，直接开始下一次循环"
   ]
  },
  {
   "cell_type": "code",
   "execution_count": 1,
   "metadata": {},
   "outputs": [
    {
     "name": "stdout",
     "output_type": "stream",
     "text": [
      "1\n",
      "3\n",
      "5\n",
      "7\n",
      "9\n",
      "end\n"
     ]
    }
   ],
   "source": [
    "n = 0\n",
    "while n < 10:\n",
    "    n = n + 1\n",
    "    if n % 2 == 0:\n",
    "        continue\n",
    "    print(n)\n",
    "print('end')"
   ]
  },
  {
   "cell_type": "markdown",
   "metadata": {},
   "source": [
    "### if 判断\n",
    "```\n",
    "    if condition:\n",
    "        expressions\n",
    "```"
   ]
  },
  {
   "cell_type": "code",
   "execution_count": 90,
   "metadata": {},
   "outputs": [
    {
     "name": "stdout",
     "output_type": "stream",
     "text": [
      "yes\n"
     ]
    }
   ],
   "source": [
    "i = 1\n",
    "if i == 1:\n",
    "    print('yes')\n",
    "    "
   ]
  },
  {
   "cell_type": "markdown",
   "metadata": {},
   "source": [
    "`if else`判断\n",
    "```\n",
    "    if condition:\n",
    "        ture expressions\n",
    "    else:\n",
    "        false expressions\n",
    "```"
   ]
  },
  {
   "cell_type": "code",
   "execution_count": 91,
   "metadata": {},
   "outputs": [
    {
     "name": "stdout",
     "output_type": "stream",
     "text": [
      "no\n"
     ]
    }
   ],
   "source": [
    "if i ==2:\n",
    "    print('yes')\n",
    "else:\n",
    "    print('no')\n",
    "        "
   ]
  },
  {
   "cell_type": "markdown",
   "metadata": {},
   "source": [
    "`if-else`行内表达式实现三目操作符`condition ? value1 : value2`"
   ]
  },
  {
   "cell_type": "code",
   "execution_count": 96,
   "metadata": {},
   "outputs": [
    {
     "name": "stdout",
     "output_type": "stream",
     "text": [
      "done\n",
      "not yet\n"
     ]
    }
   ],
   "source": [
    "worked1 = True\n",
    "result = 'done' if worked1 else 'not yet'\n",
    "print(result)\n",
    "\n",
    "worked2 = False\n",
    "result = 'done' if worked2 else 'not yet'\n",
    "print(result)"
   ]
  },
  {
   "cell_type": "markdown",
   "metadata": {},
   "source": [
    "这里有一点需要注意：是`True`而不是`true`"
   ]
  },
  {
   "cell_type": "markdown",
   "metadata": {},
   "source": [
    "`if elif else`：实现多个条件判断"
   ]
  },
  {
   "cell_type": "code",
   "execution_count": 98,
   "metadata": {},
   "outputs": [
    {
     "name": "stdout",
     "output_type": "stream",
     "text": [
      "i = 2\n"
     ]
    }
   ],
   "source": [
    "i = 2\n",
    "if i == 1:\n",
    "    print('i = 1')\n",
    "elif i ==2:\n",
    "    print('i = 2')\n",
    "else:\n",
    "    print('i dont know')\n"
   ]
  },
  {
   "cell_type": "markdown",
   "metadata": {},
   "source": [
    "`if`语句执行时从上往下判断，如果在某个判断上是`True`，把判断对应的语句执行后，会忽略掉剩下的`elif`和`else`。"
   ]
  },
  {
   "cell_type": "code",
   "execution_count": 69,
   "metadata": {},
   "outputs": [
    {
     "name": "stdout",
     "output_type": "stream",
     "text": [
      "过重！\n"
     ]
    }
   ],
   "source": [
    "# 练习\n",
    "hight = 1.75\n",
    "weight = 80.5\n",
    "bmi = weight / (hight ** 2)\n",
    "if bmi > 32:\n",
    "    print('严重肥胖！')\n",
    "elif bmi > 28:\n",
    "    print('肥胖！')\n",
    "elif bmi > 25:\n",
    "    print('过重！')\n",
    "elif bmi > 18.5:\n",
    "    print('正常！')\n",
    "else:\n",
    "    print('过轻！')\n"
   ]
  },
  {
   "cell_type": "markdown",
   "metadata": {},
   "source": [
    "还是需要进一步了解`dict`"
   ]
  },
  {
   "cell_type": "markdown",
   "metadata": {},
   "source": [
    "局部变量与全局变量：在`def`中可以定义一个局部变量，只在该`fun`中有效。全局变量在局部中使用需要在`fun()`中声明"
   ]
  },
  {
   "cell_type": "code",
   "execution_count": 3,
   "metadata": {},
   "outputs": [
    {
     "name": "stdout",
     "output_type": "stream",
     "text": [
      "-40\n"
     ]
    }
   ],
   "source": [
    "a = 50\n",
    "def testfunction5(b):\n",
    "    global a\n",
    "    result = b - a\n",
    "    print(result)\n",
    "testfunction5(10)"
   ]
  },
  {
   "cell_type": "markdown",
   "metadata": {},
   "source": [
    "**Python模块安装**\n",
    "\n",
    "外部模块：\n",
    "需要在python脚本中`import`的模块\n",
    "```\n",
    "import numpy as np\n",
    "import matplotlib as plt\n",
    "```\n",
    "这里的Numpy和matplotlib都是外部模块，需要**安装**后才会有，不属于Python自带的模块\n"
   ]
  },
  {
   "cell_type": "markdown",
   "metadata": {},
   "source": [
    "#### 读写文件\n",
    "`\\n`换行命令"
   ]
  },
  {
   "cell_type": "code",
   "execution_count": 4,
   "metadata": {},
   "outputs": [
    {
     "name": "stdout",
     "output_type": "stream",
     "text": [
      "This is my first test. This is the second line. This is the third\n",
      "\n",
      "\n",
      "This is my first test.\n",
      " This is the second line.\n",
      " This is the third\n",
      "\n",
      "\n",
      "This is my first test.\n",
      "This is the second line.\n",
      "This is the third\n"
     ]
    }
   ],
   "source": [
    "text ='This is my first test. This is the second line. This is the third'\n",
    "print(text) #没有换行命令\n",
    "print('\\n')\n",
    "text ='This is my first test.\\n This is the second line.\\n This is the third'\n",
    "print(text)\n",
    "print('\\n')\n",
    "text ='This is my first test.\\nThis is the second line.\\nThis is the third'\n",
    "print(text)"
   ]
  },
  {
   "cell_type": "markdown",
   "metadata": {},
   "source": [
    "`open`读文件方式： \n",
    "使用`open`能够打开一个文件，`open`的第一个参数为文件名和路径，第二个参数为将要以什么方式打开，如`w`为可写方式，如果计算机没有找到该文件，则创建一个新文件，并命名为参数中的文件名\n"
   ]
  },
  {
   "cell_type": "code",
   "execution_count": 7,
   "metadata": {},
   "outputs": [],
   "source": [
    "my_file = open('mytest.txt', 'w')\n",
    "my_file.write(text)  # 该语句会写入先前定义好的字符串 text\n",
    "my_file.close()"
   ]
  },
  {
   "cell_type": "markdown",
   "metadata": {},
   "source": [
    "这里要注意，用`'w'`方式打开的文件，写入内容时是覆盖式写入。\n",
    "\n",
    "`\\t` tab对齐：使用`\\t`能够达到`tab`对齐的效果"
   ]
  },
  {
   "cell_type": "code",
   "execution_count": 10,
   "metadata": {},
   "outputs": [
    {
     "name": "stdout",
     "output_type": "stream",
     "text": [
      "\tThis is my first test.\n",
      "\tThis is the second line.\n",
      "\tThis is the third\n"
     ]
    }
   ],
   "source": [
    "text ='\\tThis is my first test.\\n\\tThis is the second line.\\n\\tThis is the third'\n",
    "print(text)"
   ]
  },
  {
   "cell_type": "markdown",
   "metadata": {},
   "source": [
    "给文件增加内容，通过`'a'`的方式打开文件"
   ]
  },
  {
   "cell_type": "code",
   "execution_count": 11,
   "metadata": {},
   "outputs": [],
   "source": [
    "text = '\\nThis is appended file'\n",
    "myfile = open('mytest.txt','a')\n",
    "myfile.write(text)\n",
    "myfile.close()"
   ]
  },
  {
   "cell_type": "markdown",
   "metadata": {},
   "source": [
    "读取文件内容`.read()`，使用`file.read()`能够读取到文本的所有内容。(这里和`.write()`类似)"
   ]
  },
  {
   "cell_type": "code",
   "execution_count": 15,
   "metadata": {},
   "outputs": [
    {
     "name": "stdout",
     "output_type": "stream",
     "text": [
      "This is my first test.\n",
      "This is the second line.\n",
      "This is the third\n",
      "This is appended file\n"
     ]
    }
   ],
   "source": [
    "myfile = open('mytest.txt','r')\n",
    "content = myfile.read()\n",
    "print(content)\n",
    "myfile.close()"
   ]
  },
  {
   "cell_type": "markdown",
   "metadata": {},
   "source": [
    "按行读取 `.readline()`：在文本中一行行的读取文本，读取的内容与使用的次数有关。"
   ]
  },
  {
   "cell_type": "code",
   "execution_count": 16,
   "metadata": {},
   "outputs": [
    {
     "name": "stdout",
     "output_type": "stream",
     "text": [
      "第一行： This is my first test.\n",
      "\n"
     ]
    }
   ],
   "source": [
    "myfile = open('mytest.txt','r')\n",
    "content = myfile.readline()\n",
    "print('第一行：',content)"
   ]
  },
  {
   "cell_type": "code",
   "execution_count": 18,
   "metadata": {},
   "outputs": [
    {
     "name": "stdout",
     "output_type": "stream",
     "text": [
      "第二行： This is the third\n",
      "\n"
     ]
    }
   ],
   "source": [
    "content = myfile.readline()\n",
    "print('第二行：',content)\n",
    "myfile.close()"
   ]
  },
  {
   "cell_type": "markdown",
   "metadata": {},
   "source": [
    "读取所有行`file.readlines()`：读取所有行，将每一行的结果存储在`list`中，并可以使用像for一样的迭代器迭代这些行结果。"
   ]
  },
  {
   "cell_type": "code",
   "execution_count": 22,
   "metadata": {},
   "outputs": [
    {
     "name": "stdout",
     "output_type": "stream",
     "text": [
      "['This is my first test.\\n', 'This is the second line.\\n', 'This is the third\\n', 'This is appended file']\n",
      "\n",
      "\n",
      "This is my first test.\n",
      "\n",
      "This is the second line.\n",
      "\n",
      "This is the third\n",
      "\n",
      "This is appended file\n"
     ]
    }
   ],
   "source": [
    "myfile = open('mytest.txt','r')\n",
    "content = myfile.readlines()\n",
    "print(content)\n",
    "print('\\n')\n",
    "for item in content:\n",
    "    print(item)\n"
   ]
  },
  {
   "cell_type": "markdown",
   "metadata": {},
   "source": [
    "可以看到，得到的`content`并不是字符串"
   ]
  },
  {
   "cell_type": "markdown",
   "metadata": {},
   "source": [
    "##### 格式化\n",
    "用`%`输出格式化的字符串，在字符串内部，`%s`表示用字符串替换，`%d`表示用整数替换，常见的还包括`%f`为浮点数，`%x`为十六进制数。**注意：有几个占位符，后面就得跟几个变量或者值，顺序要对应好**"
   ]
  },
  {
   "cell_type": "code",
   "execution_count": 34,
   "metadata": {},
   "outputs": [
    {
     "name": "stdout",
     "output_type": "stream",
     "text": [
      "这是一个关于占位符的测试：\n",
      "'This is a string'\n",
      "a1\n",
      "10\n",
      "3.141593\n"
     ]
    }
   ],
   "source": [
    "a = '\\'This is a string\\''\n",
    "b = 0xa1\n",
    "c = 10\n",
    "d = 3.14159265358979\n",
    "print('这是一个关于占位符的测试：\\n%s\\n%x\\n%d\\n%f' % (a,b,c,d))  #注意没有逗号"
   ]
  },
  {
   "cell_type": "markdown",
   "metadata": {},
   "source": [
    "此外，格式化整数和浮点数还可以指定是否补0和整数与小数的位数"
   ]
  },
  {
   "cell_type": "code",
   "execution_count": 41,
   "metadata": {},
   "outputs": [
    {
     "name": "stdout",
     "output_type": "stream",
     "text": [
      "010\n",
      "\n",
      "3.14\n",
      "\n"
     ]
    }
   ],
   "source": [
    "print('%03d\\n' % c)\n",
    "print('%.2f\\n' %d)"
   ]
  },
  {
   "cell_type": "markdown",
   "metadata": {},
   "source": [
    "list和tuple：`list`列表是Python内置的一种数据类型。`list`是一种有序的集合，可以随时添加和删除其中的元素。"
   ]
  },
  {
   "cell_type": "code",
   "execution_count": 43,
   "metadata": {},
   "outputs": [
    {
     "name": "stdout",
     "output_type": "stream",
     "text": [
      "Mike\n",
      "Jone\n",
      "Snow\n"
     ]
    }
   ],
   "source": [
    "classmate = ['Mike', 'Jone', 'Snow']\n",
    "classmate\n",
    "for item in classmate:\n",
    "    print(item)\n"
   ]
  },
  {
   "cell_type": "markdown",
   "metadata": {},
   "source": [
    "变量`classmate`就是一个`list`，用`len()`可以获得`list`元素的个数"
   ]
  },
  {
   "cell_type": "code",
   "execution_count": 44,
   "metadata": {},
   "outputs": [
    {
     "name": "stdout",
     "output_type": "stream",
     "text": [
      "3\n"
     ]
    }
   ],
   "source": [
    "num = len(classmate)\n",
    "print(num)"
   ]
  },
  {
   "cell_type": "markdown",
   "metadata": {},
   "source": [
    "用索引来访问`list`中每个位置的值："
   ]
  },
  {
   "cell_type": "code",
   "execution_count": 45,
   "metadata": {},
   "outputs": [
    {
     "name": "stdout",
     "output_type": "stream",
     "text": [
      "Mike\n",
      "Jone\n",
      "Snow\n"
     ]
    }
   ],
   "source": [
    "print(classmate[0])\n",
    "print(classmate[1])\n",
    "print(classmate[2])"
   ]
  },
  {
   "cell_type": "markdown",
   "metadata": {},
   "source": [
    "索引最后一个元素可以用`[len(classmate)-1]`，也可以用直接用`[-1]`，同理倒数第二个为`[-2]`"
   ]
  },
  {
   "cell_type": "code",
   "execution_count": 47,
   "metadata": {},
   "outputs": [
    {
     "name": "stdout",
     "output_type": "stream",
     "text": [
      "Snow\n",
      "Snow\n",
      "Jone\n",
      "Mike\n"
     ]
    }
   ],
   "source": [
    "print(classmate[num - 1])\n",
    "print(classmate[-1])\n",
    "print(classmate[-2])\n",
    "print(classmate[-3])"
   ]
  },
  {
   "cell_type": "markdown",
   "metadata": {},
   "source": [
    "`list`追加元素到末尾:`append`，也可以把元素插到指定的位置`insert`。"
   ]
  },
  {
   "cell_type": "code",
   "execution_count": 49,
   "metadata": {},
   "outputs": [
    {
     "name": "stdout",
     "output_type": "stream",
     "text": [
      "['Mike', 'Jone', 'Snow', 'UZI', 'UZI']\n",
      "['Mike', 'Jack', 'Jone', 'Snow', 'UZI', 'UZI']\n"
     ]
    }
   ],
   "source": [
    "classmate.append('UZI')\n",
    "print(classmate)\n",
    "classmate.insert(1,'Jack')\n",
    "print(classmate)"
   ]
  },
  {
   "cell_type": "markdown",
   "metadata": {},
   "source": [
    "删除`list`末尾的元素：`pop`，以及删除指定位置的元素"
   ]
  },
  {
   "cell_type": "code",
   "execution_count": 50,
   "metadata": {},
   "outputs": [
    {
     "name": "stdout",
     "output_type": "stream",
     "text": [
      "['Mike', 'Jack', 'Jone', 'Snow', 'UZI']\n"
     ]
    },
    {
     "data": {
      "text/plain": [
       "'Jack'"
      ]
     },
     "execution_count": 50,
     "metadata": {},
     "output_type": "execute_result"
    }
   ],
   "source": [
    "classmate.pop()\n",
    "print(classmate)\n",
    "classmate.pop(1)"
   ]
  },
  {
   "cell_type": "markdown",
   "metadata": {},
   "source": [
    "将某个元素替换成别的元素，可以直接赋值给对应的索引位置。"
   ]
  },
  {
   "cell_type": "code",
   "execution_count": 52,
   "metadata": {},
   "outputs": [
    {
     "name": "stdout",
     "output_type": "stream",
     "text": [
      "['JR.Mike', 'Jone', 'Snow', 'UZI']\n"
     ]
    }
   ],
   "source": [
    "classmate[0] = 'JR.Mike'  #这里是对第一个赋值\n",
    "print(classmate)"
   ]
  },
  {
   "cell_type": "markdown",
   "metadata": {},
   "source": [
    "`list`中元素的数据类型也可以不同"
   ]
  },
  {
   "cell_type": "code",
   "execution_count": 53,
   "metadata": {},
   "outputs": [
    {
     "name": "stdout",
     "output_type": "stream",
     "text": [
      "['Apple', 1, True]\n"
     ]
    }
   ],
   "source": [
    "L = ['Apple', 1, True]\n",
    "print(L)"
   ]
  },
  {
   "cell_type": "markdown",
   "metadata": {},
   "source": [
    "`list`中的元素也可以是另一个list（那这个`list`有自己的变量名吗）"
   ]
  },
  {
   "cell_type": "code",
   "execution_count": 54,
   "metadata": {},
   "outputs": [
    {
     "name": "stdout",
     "output_type": "stream",
     "text": [
      "['Apple', 1, True, ['banana', 2, False]]\n"
     ]
    }
   ],
   "source": [
    "La = ['banana', 2, False]\n",
    "L.append(La)\n",
    "print(L)"
   ]
  },
  {
   "cell_type": "markdown",
   "metadata": {},
   "source": [
    "`tuple`，另一种有序列表叫做元组：`tuple`。`tuple`与`list`类似，**但是一旦初始化后就不能修改**，可以看到是用括号`()`表示的"
   ]
  },
  {
   "cell_type": "code",
   "execution_count": 55,
   "metadata": {},
   "outputs": [
    {
     "name": "stdout",
     "output_type": "stream",
     "text": [
      "('JR.Mike', 'Jack', 'Jone')\n"
     ]
    }
   ],
   "source": [
    "classmates = ('JR.Mike', 'Jack', 'Jone')\n",
    "print(classmates)"
   ]
  },
  {
   "cell_type": "markdown",
   "metadata": {},
   "source": [
    "**注意**：定义只有一个元素的tuple时，要在元素后面加上一个逗号。python也是这样显示的"
   ]
  },
  {
   "cell_type": "code",
   "execution_count": 56,
   "metadata": {},
   "outputs": [
    {
     "name": "stdout",
     "output_type": "stream",
     "text": [
      "(1,)\n"
     ]
    }
   ],
   "source": [
    "t = (1,)\n",
    "print(t)"
   ]
  },
  {
   "cell_type": "markdown",
   "metadata": {},
   "source": [
    "用索引访问`tuple`中的元素"
   ]
  },
  {
   "cell_type": "code",
   "execution_count": 58,
   "metadata": {},
   "outputs": [
    {
     "name": "stdout",
     "output_type": "stream",
     "text": [
      "Jack\n",
      "1\n"
     ]
    }
   ],
   "source": [
    "print(classmates[1])\n",
    "print(t[0])"
   ]
  },
  {
   "cell_type": "markdown",
   "metadata": {},
   "source": [
    "‘可变的’的`tuple`，也就是`tuple`中的元素为`list`（那么`list`中的元素可以是`tuple`吗？）"
   ]
  },
  {
   "cell_type": "code",
   "execution_count": 60,
   "metadata": {},
   "outputs": [
    {
     "name": "stdout",
     "output_type": "stream",
     "text": [
      "('Jack', [50, 60])\n",
      "('Jack', [50, 70])\n",
      "('Jone', (50, 60))\n"
     ]
    }
   ],
   "source": [
    "t1 = ('Jack', [50, 60])\n",
    "print(t1)\n",
    "t1[1][1] = 70\n",
    "print(t1)\n",
    "\n",
    "l1 = ('Jone', (50, 60))\n",
    "print(l1)"
   ]
  },
  {
   "cell_type": "markdown",
   "metadata": {},
   "source": [
    "`list`得到二维数组"
   ]
  },
  {
   "cell_type": "code",
   "execution_count": 63,
   "metadata": {},
   "outputs": [
    {
     "name": "stdout",
     "output_type": "stream",
     "text": [
      "[[1, 2, 3], [4, 5, 6], [7, 8, 9]]\n"
     ]
    }
   ],
   "source": [
    "m1 = [[1, 2, 3], [4, 5, 6], [7, 8, 9]]\n",
    "print(m1)"
   ]
  },
  {
   "cell_type": "code",
   "execution_count": 68,
   "metadata": {},
   "outputs": [
    {
     "name": "stdout",
     "output_type": "stream",
     "text": [
      "Apple\n",
      "Python\n",
      "Lisa\n"
     ]
    }
   ],
   "source": [
    "L = [\n",
    "    ['Apple', 'Google', 'Microsoft'],\n",
    "    ['Java', 'Python', 'Ruby', 'PHP'],\n",
    "    ['Adam', 'Bart', 'Lisa']\n",
    "]\n",
    "\n",
    "print(L[0][0],L[1][1],L[2][2],sep = '\\n')   "
   ]
  },
  {
   "cell_type": "markdown",
   "metadata": {},
   "source": [
    "这里的`sep = '\\n'`表示以换行作为分隔（应该是这个意思吧！）"
   ]
  },
  {
   "cell_type": "code",
   "execution_count": 83,
   "metadata": {},
   "outputs": [
    {
     "name": "stdout",
     "output_type": "stream",
     "text": [
      "Hello, Bart!\n",
      "Hello, Lisa!\n",
      "Hello, Adam!\n"
     ]
    }
   ],
   "source": [
    "#练习\n",
    "L = ['Bart', 'Lisa', 'Adam']\n",
    "for name in L:\n",
    "    print('Hello, %s!' %(name))\n"
   ]
  },
  {
   "cell_type": "markdown",
   "metadata": {},
   "source": [
    "### 使用dict和set\n",
    "#### dict：\n",
    "python内置了字典：`dict`的支持，使用key-value存储，具有**极快的查找速度**  \n",
    "将数据放入`dict`除了初始化时指定外，还可以通过key放入  \n",
    "由于一个key只能对应一个value，所以多次对一个key放入value，后面的值会冲掉前面的值  \n",
    "key可以是整数，也可以是字符串，但是不能为list\n",
    "dict内部存放的顺序与key放入的顺序无关"
   ]
  },
  {
   "cell_type": "code",
   "execution_count": 9,
   "metadata": {},
   "outputs": [
    {
     "data": {
      "text/plain": [
       "{1: 99, 2: 98, 'Bob': 75, 'Mike': 94, 'Tracy': 60, 'Uzi': 100}"
      ]
     },
     "execution_count": 9,
     "metadata": {},
     "output_type": "execute_result"
    }
   ],
   "source": [
    "d = {'Mike':94, 'Bob':75, 'Tracy':60}\n",
    "d['Uzi'] = 100\n",
    "d['Bob']\n",
    "d[1] = 99\n",
    "a = 2\n",
    "d[a] = 98\n",
    "d"
   ]
  },
  {
   "cell_type": "markdown",
   "metadata": {},
   "source": [
    "如果key不存在，dict就会报错。可以通过`in`判断key是否存在；或者通过dict提供的`get()`方法，如果key不存在可以返回`None`，或者自己指定的value"
   ]
  },
  {
   "cell_type": "code",
   "execution_count": 4,
   "metadata": {},
   "outputs": [],
   "source": [
    "d = {'Mike':94, 'Bob':75, 'Tracy':60}\n",
    "d['Uzi'] = 100\n",
    "\n",
    "if 'Uzi' in d:\n",
    "    print(d['Uzi'])\n",
    "else:\n",
    "    print('not here')\n",
    "\n",
    "p = d.get('smlz', 1)\n",
    "\n",
    "if p != 1:\n",
    "    print(d['smlz'])\n",
    "else:\n",
    "    print('not here')"
   ]
  },
  {
   "cell_type": "markdown",
   "metadata": {},
   "source": [
    "#### set\n",
    "* set与dict类似，也是一组key的集合，但不存储value。  \n",
    "* 要创建set，需要提供一个list作为输入集合  \n",
    "* 通过`add(key)`和`remove(key)`添加删除元素\n",
    "* set与dict的唯一区别在于没有存储对应的value"
   ]
  },
  {
   "cell_type": "code",
   "execution_count": 6,
   "metadata": {},
   "outputs": [
    {
     "name": "stdout",
     "output_type": "stream",
     "text": [
      "{1, 2, 3}\n",
      "{'mike', 1, 2, 3}\n",
      "{'mike', 2, 3}\n"
     ]
    }
   ],
   "source": [
    "s = set([1, 2, 3])\n",
    "print(s)\n",
    "s.add('mike')\n",
    "print(s)\n",
    "s.remove(1)\n",
    "print(s)"
   ]
  },
  {
   "cell_type": "markdown",
   "metadata": {},
   "source": [
    "### 函数\n",
    "**函数名是指向一个函数对象的引用，完全可以把函数名赋给一个变量，相当于给这个函数起了一个别名**"
   ]
  },
  {
   "cell_type": "code",
   "execution_count": 13,
   "metadata": {},
   "outputs": [
    {
     "name": "stdout",
     "output_type": "stream",
     "text": [
      "1\n"
     ]
    }
   ],
   "source": [
    "a = abs\n",
    "print(a(-1))"
   ]
  },
  {
   "cell_type": "code",
   "execution_count": 16,
   "metadata": {},
   "outputs": [
    {
     "name": "stdout",
     "output_type": "stream",
     "text": [
      "0xff\n",
      "0x3e8\n"
     ]
    }
   ],
   "source": [
    "n1 = 255\n",
    "n2 = 1000\n",
    "print(hex(n1), hex(n2), sep ='\\n')"
   ]
  },
  {
   "cell_type": "markdown",
   "metadata": {},
   "source": [
    "#### `def` 函数，定义函数\n",
    "```\n",
    "def function_name(parameters):\n",
    "    expressions\n",
    "```\n",
    "* 使用`def`语句，依次写出函数名，括号，参数，冒号。在缩进块中编写函数体，函数的返回值用`return`语句返回。**(不需要定义返回值？)**  \n",
    "* 注意：函数体内部的语句在执行时，遇到`return`时函数执行完毕。"
   ]
  },
  {
   "cell_type": "code",
   "execution_count": 18,
   "metadata": {},
   "outputs": [
    {
     "name": "stdout",
     "output_type": "stream",
     "text": [
      "3\n"
     ]
    }
   ],
   "source": [
    "def my_abs(a):\n",
    "    if a < 0:\n",
    "        return -a\n",
    "    else:\n",
    "        return a\n",
    "print(my_abs(-3))"
   ]
  },
  {
   "cell_type": "markdown",
   "metadata": {},
   "source": [
    "#### 空函数\n",
    "* 定义一个什么都不做的空函数\n",
    "```\n",
    "def nop():\n",
    "    pass\n",
    "```\n",
    "* `pass`语句可以作为占位符.\n",
    "* `pass`还可以用在其他语句里.  \n",
    "\n",
    "#### 参数检查\n",
    "* 调用参数时如果参数个数不对,Python解释器会自动检查出来,并抛出`Type Error`\n",
    "* 如果参数类型不对,Python解释器无法帮我们检查.\n",
    "* 因此需要我们完善函数定义\n",
    "* 数据类型检查可以用内置函数`isinstance()`实现:"
   ]
  },
  {
   "cell_type": "code",
   "execution_count": 26,
   "metadata": {},
   "outputs": [
    {
     "name": "stdout",
     "output_type": "stream",
     "text": [
      "1\n"
     ]
    }
   ],
   "source": [
    "def my_abs(x):\n",
    "    if not isinstance(x, (int, float)):\n",
    "        raise TypeError('bad operand type')\n",
    "    if  x >= 0:\n",
    "        return x\n",
    "    else:\n",
    "        return -x\n",
    "# print(my_abs('abc'))\n",
    "print(my_abs(-1))"
   ]
  },
  {
   "cell_type": "markdown",
   "metadata": {},
   "source": [
    "#### 返回多个值\n",
    "* Python函数返回的是一个tuple,但是在语法上,返回一个tuple可以省略括号\n",
    "* 多个变量可以同时接受一个tuple,按位置赋给对应的值."
   ]
  },
  {
   "cell_type": "code",
   "execution_count": 30,
   "metadata": {},
   "outputs": [
    {
     "name": "stdout",
     "output_type": "stream",
     "text": [
      "x = 151.9615242271, y = 70.00\n"
     ]
    }
   ],
   "source": [
    "import math\n",
    "def move(x, y, step, angle = 0):\n",
    "    nx = x + step * math.cos(angle)\n",
    "    ny = y - step * math.sin(angle)\n",
    "    return nx, ny\n",
    "\n",
    "x, y = move(100, 100, 60, math.pi / 6)\n",
    "r = move(100, 100, 60, math.pi / 6)\n",
    "print('x = %.10f, y = %.2f' %(r[0],r[1]))\n"
   ]
  },
  {
   "cell_type": "code",
   "execution_count": 37,
   "metadata": {},
   "outputs": [
    {
     "name": "stdout",
     "output_type": "stream",
     "text": [
      "(-0.5, -1.0)\n",
      "(1.0, -4.0)\n",
      "quadratic(2, 3, 1) = (-0.5, -1.0)\n",
      "quadratic(1, 3, -4) = (1.0, -4.0)\n",
      "测试成功\n"
     ]
    }
   ],
   "source": [
    "# 练习\n",
    "import math\n",
    "def quadratic(a, b, c):\n",
    "    delta = b ** 2 - 4 * a * c\n",
    "    if delta > 0:\n",
    "        x1 = (-b + math.sqrt(delta))/( 2 * a)\n",
    "        x2 = (-b - math.sqrt(delta))/( 2 * a)\n",
    "        return x1, x2\n",
    "    elif delta == 0:\n",
    "        x = b / (2 * a)\n",
    "        return x\n",
    "    else:\n",
    "        print('no result!')\n",
    "x = quadratic(2, 3, 1)\n",
    "print(x)\n",
    "y = quadratic(1, 3, -4)\n",
    "print(y)\n",
    "\n",
    "# 测试:\n",
    "print('quadratic(2, 3, 1) =', quadratic(2, 3, 1))\n",
    "print('quadratic(1, 3, -4) =', quadratic(1, 3, -4))\n",
    "\n",
    "if quadratic(2, 3, 1) != (-0.5, -1.0):\n",
    "    print('测试失败')\n",
    "elif quadratic(1, 3, -4) != (1.0, -4.0):\n",
    "    print('测试失败')\n",
    "else:\n",
    "    print('测试成功')"
   ]
  },
  {
   "cell_type": "markdown",
   "metadata": {},
   "source": [
    "#### 函数的参数\n",
    "* 必选参数\n",
    "* 默认参数\n",
    "* 可变参数\n",
    "* 关键字参数"
   ]
  },
  {
   "cell_type": "markdown",
   "metadata": {},
   "source": [
    "##### 位置参数\n",
    "* 调用函数时,传入的值按照位置顺序依次付给参数\n",
    "* 如果忘记了函数参数的位置，只知道参数的名字，可以在函数调用过程中给指明的参数"
   ]
  },
  {
   "cell_type": "code",
   "execution_count": 104,
   "metadata": {},
   "outputs": [
    {
     "name": "stdout",
     "output_type": "stream",
     "text": [
      "This is testfunction2!\n",
      "c = a + b = 4\n"
     ]
    }
   ],
   "source": [
    "def testfunction2(a, b):\n",
    "    print('This is testfunction2!')\n",
    "    c = (a + 1) * b\n",
    "    print('c = a + b = %d' %c)\n",
    "testfunction2(b = 2, a = 1)"
   ]
  },
  {
   "cell_type": "markdown",
   "metadata": {},
   "source": [
    "##### 默认参数\n",
    "* 简化函数的调用\n",
    "* 必选参数在前,默认参数在后\n",
    "* 通常将变化小的参数用作默认参数\n",
    "* 按照顺序提供默认参数,如果不按照默认顺序需要写上参数名\n",
    "* **注意默认参数必须指向不变对象**:常量,字符串,tuple(应该可以吧)\n",
    "\n",
    "如果改变了默认参数的数据类型会怎样?会报错!!"
   ]
  },
  {
   "cell_type": "code",
   "execution_count": 8,
   "metadata": {},
   "outputs": [
    {
     "name": "stdout",
     "output_type": "stream",
     "text": [
      "[1, 'end']\n",
      "[1, 2, 'end']\n",
      "[1, 2, 'end', 'end']\n"
     ]
    }
   ],
   "source": [
    "def add_end(L = [1, 2]):\n",
    "    L.append('end')\n",
    "    return L\n",
    "\n",
    "print(add_end([1]))  # 没有使用默认参数\n",
    "print(add_end())\n",
    "print(add_end())"
   ]
  },
  {
   "cell_type": "markdown",
   "metadata": {},
   "source": [
    "可以看到上面的例子中,默认参数`L`是一个列表,是可变对象(注意与变量区分),在每次调用该函数时,会改变该对象,也就是改变了默认参数,因此一定要令默认参数为不可变对象"
   ]
  },
  {
   "cell_type": "code",
   "execution_count": null,
   "metadata": {},
   "outputs": [],
   "source": [
    "def add_end_new(L = None):\n",
    "    if L is None:\n",
    "        L = []\n",
    "    L.append('end')\n",
    "    return L\n",
    "\n"
   ]
  },
  {
   "cell_type": "markdown",
   "metadata": {},
   "source": [
    "#### 可变参数\n",
    "* 传入的参数的个数是可变的\n",
    "* 作为一个tuple传入的\n",
    "* 在定义时不能出现在特定参数和默认参数前面"
   ]
  },
  {
   "cell_type": "code",
   "execution_count": 9,
   "metadata": {},
   "outputs": [
    {
     "name": "stdout",
     "output_type": "stream",
     "text": [
      "6\n",
      "6\n",
      "6\n"
     ]
    }
   ],
   "source": [
    "# numbers 是一个tuple\n",
    "def calc(numbers):\n",
    "    sum = 0\n",
    "    for n in numbers:\n",
    "        sum = sum + n\n",
    "    return sum\n",
    "c = (1, 2, 3)  # 需要定义一个tuple(或者list)\n",
    "print(calc(c))\n",
    "\n",
    "# numbers 为可变参数\n",
    "def calc_new(*numbers):\n",
    "    sum = 0\n",
    "    for n in numbers:\n",
    "        sum = sum + n\n",
    "    return sum\n",
    "print(calc_new(1,2,3)) #直接传入参数\n",
    "\n",
    "# 也可以直接将tuple或者list加*传入\n",
    "print(calc_new(*c))"
   ]
  },
  {
   "cell_type": "markdown",
   "metadata": {},
   "source": [
    "可变参数与其他类型参数一起用"
   ]
  },
  {
   "cell_type": "code",
   "execution_count": 26,
   "metadata": {},
   "outputs": [
    {
     "name": "stdout",
     "output_type": "stream",
     "text": [
      "2\n",
      "()\n",
      "2\n",
      "(3,)\n",
      "3\n",
      "(4, 5)\n",
      "(1, 2)\n",
      "()\n"
     ]
    }
   ],
   "source": [
    "def test1(a, b = 2, *numbers):\n",
    "    sum = 0\n",
    "    print(b)\n",
    "    print(numbers)\n",
    "test1(1)\n",
    "test1(1, 2, 3)\n",
    "test1(1, 3, 4, 5)\n",
    "test1(1,(1, 2))  # 默认参数b = 2, 但是这里认为是(1, 2)中的1"
   ]
  },
  {
   "cell_type": "markdown",
   "metadata": {},
   "source": [
    "#### 关键字参数\n",
    "* 关键字参数传入0个或者任意个含参数名的参数,在函数内部自动组装为一个dict.\n",
    "* 用于扩展函数功能\n",
    "* 也可以先组装出一个字典,然后用`**`把该字典转换为关键字参数传入"
   ]
  },
  {
   "cell_type": "code",
   "execution_count": 121,
   "metadata": {},
   "outputs": [
    {
     "name": "stdout",
     "output_type": "stream",
     "text": [
      "name is lixiang\n",
      "age 27\n",
      "country china\n"
     ]
    }
   ],
   "source": [
    "def portrait(name, **kw):\n",
    "    print('name is', name)\n",
    "    for k,v in kw.items():\n",
    "        print(k, v) # 那是不是说，k为参数名，w为参数值？     \n",
    "portrait('lixiang', age = 27, country = 'china')"
   ]
  },
  {
   "cell_type": "code",
   "execution_count": null,
   "metadata": {},
   "outputs": [],
   "source": [
    "def person(name, age, **kw)"
   ]
  },
  {
   "cell_type": "code",
   "execution_count": null,
   "metadata": {},
   "outputs": [],
   "source": [
    "def testfunction(a):\n",
    "    print('This is a testfunction')\n",
    "    b = a + 1\n",
    "    print('b = %d' % b)\n",
    "    \n",
    "testfunction(5)\n",
    "    "
   ]
  },
  {
   "cell_type": "markdown",
   "metadata": {},
   "source": [
    "#### 命名关键字参数\n",
    "* 限制关键字参数的名字\n",
    "* 通过`*`隔开其他类型的参数\n",
    "* 如果函数定义中有一个可变参数,那么后面的命名关键字参数不再需要`*`分隔\n",
    "* 命名关键字参数**必须**传入参数名(与位置参数不同)\n",
    "* 命名关键字参数可以有缺省值,从而简化调用(为什么不用默认参数?)"
   ]
  },
  {
   "cell_type": "code",
   "execution_count": 30,
   "metadata": {},
   "outputs": [
    {
     "name": "stdout",
     "output_type": "stream",
     "text": [
      "Jack Ma 60 Hangzhou ceo\n",
      "Tony Ma 70 Beijing ceo\n",
      "Jone Snow 20 Winterfall killer\n"
     ]
    }
   ],
   "source": [
    "def person(name, age, *, city = 'Beijing', job):\n",
    "    print(name, age, city, job)\n",
    "    \n",
    "person('Jack Ma', 60, city = 'Hangzhou', job = 'ceo')\n",
    "person('Tony Ma', 70, job = 'ceo')\n",
    "person('Jone Snow',20, city = 'Winterfall', job = 'killer')\n"
   ]
  },
  {
   "cell_type": "markdown",
   "metadata": {},
   "source": [
    "#### 参数组合\n",
    "* Python中定义函数,可以用必选参数,默认参数,可变参数,关键字参数,和命名关键字参数,都可以组合使用\n",
    "* 参数定义的顺序必须是:必选参数,默认参数,可变参数,**命名关键字参数**,关键字参数\n",
    "* 如果定义了默认参数,同时还定义了可变参数,那么在调用函数时不能省略默认参数\n",
    "* 对于任意函数,都可以通过类似`func(*args, **kw)`的形式调用,无论它的参数是如何定义的"
   ]
  },
  {
   "cell_type": "code",
   "execution_count": 54,
   "metadata": {},
   "outputs": [
    {
     "name": "stdout",
     "output_type": "stream",
     "text": [
      "a = 1 b = 2 c = 0 args = () kw = {}\n",
      "a = 1 b = 2 c = 3 args = () kw = {}\n",
      "a = 1 b = 2 c = 3 args = ('a', 'b') kw = {}\n",
      "a = 1 b = 2 c = 3 args = (4, 'b') kw = {}\n",
      "a = 1 b = 2 c = 0 args = () kw = {'job': 'CEO'}\n",
      "a = 2 b = 1 c = 2 args = (3, 4, 5) kw = {'d': 99, 'x': '#'}\n"
     ]
    }
   ],
   "source": [
    "def f1(a, b, c = 0, *args, **kw):  #分别定义了必选参数a,b;默认参数c = 0;可变参数args;关键字参数kw\n",
    "    print('a =', a, 'b =', b, 'c =', c, 'args =', args, 'kw =', kw)\n",
    "f1(1, 2)\n",
    "f1(1, 2, c = 3)\n",
    "f1(1, 2, 3, 'a', 'b')\n",
    "f1(1, 2, 3, 4, 'b')\n",
    "f1(1, 2, job = 'CEO')\n",
    "\n",
    "args = (1, 2, 3, 4, 5)\n",
    "kw = {'d': 99, 'x':'#'}\n",
    "f1(2,*args, **kw)  #args的元素按顺序自动传给了未赋值的参数,剩下的成为了可变参数的一部分(前提是函数必须定义了可变参数)."
   ]
  },
  {
   "cell_type": "code",
   "execution_count": 53,
   "metadata": {},
   "outputs": [
    {
     "name": "stdout",
     "output_type": "stream",
     "text": [
      "a = 1 b = 2 c = 0 d = 3 kw = {}\n",
      "a = 1 b = 2 c = 3 d = 4 kw = {'e': 5}\n",
      "a = 1 b = 2 c = 3 d = 4 kw = {'e': 5}\n"
     ]
    }
   ],
   "source": [
    "def f2(a, b, c = 0, *, d, **kw):  #定义了命名关键字参数d\n",
    "    print('a =', a, 'b =', b, 'c =', c, 'd =', d, 'kw =', kw)\n",
    "f2(1, 2, d = 3)\n",
    "f2(1, 2, 3, d = 4, e = 5)\n",
    "arg = (1, 2, 3)\n",
    "f2(*arg, d = 4, e = 5)"
   ]
  },
  {
   "cell_type": "markdown",
   "metadata": {},
   "source": [
    "#### 练习:"
   ]
  },
  {
   "cell_type": "code",
   "execution_count": 66,
   "metadata": {},
   "outputs": [
    {
     "name": "stdout",
     "output_type": "stream",
     "text": [
      "product(5) = 5\n",
      "product(5, 6) = 30\n",
      "product(5, 6, 7) = 210\n",
      "product(5, 6, 7, 9) = 1890\n",
      "测试成功!\n"
     ]
    }
   ],
   "source": [
    "def product(x, *y):\n",
    "    if x is None:\n",
    "        raise TypeError('bad')\n",
    "    else:\n",
    "        result  = x\n",
    "        for i in y:\n",
    "            result = result * i\n",
    "        return result\n",
    "\n",
    "# 测试\n",
    "print('product(5) =', product(5))\n",
    "print('product(5, 6) =', product(5, 6))\n",
    "print('product(5, 6, 7) =', product(5, 6, 7))\n",
    "print('product(5, 6, 7, 9) =', product(5, 6, 7, 9))\n",
    "if product(5) != 5:\n",
    "    print('测试失败!')\n",
    "elif product(5, 6) != 30:\n",
    "    print('测试失败!')\n",
    "elif product(5, 6, 7) != 210:\n",
    "    print('测试失败!')\n",
    "elif product(5, 6, 7, 9) != 1890:\n",
    "    print('测试失败!')\n",
    "else:\n",
    "    try:\n",
    "        product()\n",
    "        print('测试失败!')\n",
    "    except TypeError:\n",
    "        print('测试成功!')    \n",
    "\n",
    "        \n",
    "        "
   ]
  },
  {
   "cell_type": "markdown",
   "metadata": {},
   "source": [
    "**自调用**，在执行脚本时执行一些代码，比如单元测试，可以在脚本最后加上单元测试代码，但是该脚本作为一个模块对外提供功能的时候测试代码也会执行，这些往往是不想要的，可以将这些代码加入脚本最后：\n",
    "```\n",
    "if _name_== '_main_':\n",
    "    #code_here\n",
    "```\n",
    "这段代码具体是怎么实现的？跟自调用有什么关系？"
   ]
  },
  {
   "cell_type": "code",
   "execution_count": null,
   "metadata": {},
   "outputs": [],
   "source": []
  },
  {
   "cell_type": "code",
   "execution_count": null,
   "metadata": {},
   "outputs": [],
   "source": []
  }
 ],
 "metadata": {
  "kernelspec": {
   "display_name": "Python 3",
   "language": "python",
   "name": "python3"
  },
  "language_info": {
   "codemirror_mode": {
    "name": "ipython",
    "version": 3
   },
   "file_extension": ".py",
   "mimetype": "text/x-python",
   "name": "python",
   "nbconvert_exporter": "python",
   "pygments_lexer": "ipython3",
   "version": "3.6.4"
  }
 },
 "nbformat": 4,
 "nbformat_minor": 2
}
